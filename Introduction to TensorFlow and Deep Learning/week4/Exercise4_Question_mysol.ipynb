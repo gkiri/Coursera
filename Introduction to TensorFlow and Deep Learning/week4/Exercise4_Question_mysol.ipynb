{
  "nbformat": 4,
  "nbformat_minor": 0,
  "metadata": {
    "colab": {
      "name": "Exercise4-Question.ipynb",
      "version": "0.3.2",
      "provenance": []
    },
    "kernelspec": {
      "name": "python3",
      "display_name": "Python 3"
    }
  },
  "cells": [
    {
      "metadata": {
        "id": "UncprnB0ymAE",
        "colab_type": "text"
      },
      "cell_type": "markdown",
      "source": [
        "Below is code with a link to a happy or sad dataset which contains 80 images, 40 happy and 40 sad. \n",
        "Create a convolutional neural network that trains to 100% accuracy on these images,  which cancels training upon hitting training accuracy of >.999\n",
        "\n",
        "Hint -- it will work best with 3 convolutional layers."
      ]
    },
    {
      "metadata": {
        "id": "7Vti6p3PxmpS",
        "colab_type": "code",
        "colab": {
          "base_uri": "https://localhost:8080/",
          "height": 210
        },
        "outputId": "c17f066c-96cd-42c3-829f-7f128f79756d"
      },
      "cell_type": "code",
      "source": [
        "import tensorflow as tf\n",
        "import os\n",
        "import zipfile\n",
        "\n",
        "\n",
        "DESIRED_ACCURACY = 0.999\n",
        "\n",
        "!wget --no-check-certificate \\\n",
        "    \"https://storage.googleapis.com/laurencemoroney-blog.appspot.com/happy-or-sad.zip\" \\\n",
        "    -O \"/tmp/happy-or-sad.zip\"\n",
        "\n",
        "zip_ref = zipfile.ZipFile(\"/tmp/happy-or-sad.zip\", 'r')\n",
        "zip_ref.extractall(\"/tmp/h-or-s\")\n",
        "zip_ref.close()\n",
        "\n",
        "class myCallback(tf.keras.callbacks.Callback):\n",
        "  def on_epoch_end(self, epoch, logs={}):\n",
        "    if(logs.get('acc')> DESIRED_ACCURACY):\n",
        "      print(\"\\nReached 99.8% accuracy so cancelling training!\")\n",
        "      self.model.stop_training = True\n",
        "\n",
        "\n",
        "callbacks = myCallback()"
      ],
      "execution_count": 23,
      "outputs": [
        {
          "output_type": "stream",
          "text": [
            "--2019-04-29 02:04:10--  https://storage.googleapis.com/laurencemoroney-blog.appspot.com/happy-or-sad.zip\n",
            "Resolving storage.googleapis.com (storage.googleapis.com)... 74.125.141.128, 2607:f8b0:400c:c06::80\n",
            "Connecting to storage.googleapis.com (storage.googleapis.com)|74.125.141.128|:443... connected.\n",
            "HTTP request sent, awaiting response... 200 OK\n",
            "Length: 2670333 (2.5M) [application/zip]\n",
            "Saving to: ‘/tmp/happy-or-sad.zip’\n",
            "\n",
            "\r/tmp/happy-or-sad.z   0%[                    ]       0  --.-KB/s               \r/tmp/happy-or-sad.z 100%[===================>]   2.55M  --.-KB/s    in 0.02s   \n",
            "\n",
            "2019-04-29 02:04:11 (119 MB/s) - ‘/tmp/happy-or-sad.zip’ saved [2670333/2670333]\n",
            "\n"
          ],
          "name": "stdout"
        }
      ]
    },
    {
      "metadata": {
        "id": "6DLGbXXI1j_V",
        "colab_type": "code",
        "colab": {}
      },
      "cell_type": "code",
      "source": [
        "# This Code Block should Define and Compile the Model\n",
        "model = tf.keras.models.Sequential([\n",
        "  tf.keras.layers.Conv2D(32, (3,3), activation='relu', input_shape=(28, 28, 3)),\n",
        "  tf.keras.layers.MaxPooling2D(2, 2),\n",
        "  tf.keras.layers.Flatten(),\n",
        "  tf.keras.layers.Dense(128, activation='relu'),\n",
        "  tf.keras.layers.Dense(10, activation='softmax')\n",
        "])\n",
        "\n",
        "from tensorflow.keras.optimizers import RMSprop\n",
        "model.compile(optimizer='adam', loss='sparse_categorical_crossentropy', metrics=['accuracy'])"
      ],
      "execution_count": 0,
      "outputs": []
    },
    {
      "metadata": {
        "id": "4Ap9fUJE1vVu",
        "colab_type": "code",
        "colab": {
          "base_uri": "https://localhost:8080/",
          "height": 34
        },
        "outputId": "6c1e290c-3d69-4aff-d20d-6839fd2ab058"
      },
      "cell_type": "code",
      "source": [
        "# This code block should create an instance of an ImageDataGenerator called train_datagen \n",
        "# And a train_generator by calling train_datagen.flow_from_directory\n",
        "\n",
        "from tensorflow.keras.preprocessing.image import ImageDataGenerator\n",
        "train_datagen = ImageDataGenerator(rescale=1/255)\n",
        "validation_datagen = ImageDataGenerator(rescale=1/255)\n",
        "\n",
        "\n",
        "# Flow training images in batches of 128 using train_datagen generator\n",
        "train_generator = train_datagen.flow_from_directory(\n",
        "        '/tmp/h-or-s/',  # This is the source directory for training images\n",
        "        target_size=(28, 28),  # All images will be resized to 150x150\n",
        "        batch_size=8,\n",
        "        # Since we use binary_crossentropy loss, we need binary labels\n",
        "        class_mode='binary')\n",
        "# Expected output: 'Found 80 images belonging to 2 classes'"
      ],
      "execution_count": 25,
      "outputs": [
        {
          "output_type": "stream",
          "text": [
            "Found 80 images belonging to 2 classes.\n"
          ],
          "name": "stdout"
        }
      ]
    },
    {
      "metadata": {
        "id": "48dLm13U1-Le",
        "colab_type": "code",
        "colab": {
          "base_uri": "https://localhost:8080/",
          "height": 545
        },
        "outputId": "bb3cc1ad-a53c-488f-f1ee-bdb9e9f07a3d"
      },
      "cell_type": "code",
      "source": [
        "history = model.fit_generator(\n",
        "      train_generator,\n",
        "      steps_per_epoch=8,  \n",
        "      epochs=15,\n",
        "      verbose=1)"
      ],
      "execution_count": 26,
      "outputs": [
        {
          "output_type": "stream",
          "text": [
            "Epoch 1/15\n",
            "10/10 [==============================] - 0s 31ms/step - loss: 0.8908 - acc: 0.6000\n",
            "Epoch 2/15\n",
            "10/10 [==============================] - 0s 38ms/step - loss: 0.4593 - acc: 0.7625\n",
            "Epoch 3/15\n",
            "10/10 [==============================] - 0s 30ms/step - loss: 0.1828 - acc: 0.9500\n",
            "Epoch 4/15\n",
            "10/10 [==============================] - 0s 37ms/step - loss: 0.1121 - acc: 0.9625\n",
            "Epoch 5/15\n",
            "10/10 [==============================] - 0s 31ms/step - loss: 0.0811 - acc: 0.9875\n",
            "Epoch 6/15\n",
            "10/10 [==============================] - 0s 41ms/step - loss: 0.0749 - acc: 1.0000\n",
            "Epoch 7/15\n",
            "10/10 [==============================] - 0s 29ms/step - loss: 0.0826 - acc: 0.9750\n",
            "Epoch 8/15\n",
            "10/10 [==============================] - 0s 39ms/step - loss: 0.0411 - acc: 1.0000\n",
            "Epoch 9/15\n",
            "10/10 [==============================] - 0s 31ms/step - loss: 0.0516 - acc: 0.9625\n",
            "Epoch 10/15\n",
            "10/10 [==============================] - 0s 39ms/step - loss: 0.0565 - acc: 1.0000\n",
            "Epoch 11/15\n",
            "10/10 [==============================] - 0s 30ms/step - loss: 0.0533 - acc: 0.9750\n",
            "Epoch 12/15\n",
            "10/10 [==============================] - 0s 38ms/step - loss: 0.0393 - acc: 0.9875\n",
            "Epoch 13/15\n",
            "10/10 [==============================] - 0s 31ms/step - loss: 0.0279 - acc: 1.0000\n",
            "Epoch 14/15\n",
            "10/10 [==============================] - 0s 39ms/step - loss: 0.0161 - acc: 1.0000\n",
            "Epoch 15/15\n",
            "10/10 [==============================] - 0s 31ms/step - loss: 0.0121 - acc: 1.0000\n"
          ],
          "name": "stdout"
        }
      ]
    }
  ]
}