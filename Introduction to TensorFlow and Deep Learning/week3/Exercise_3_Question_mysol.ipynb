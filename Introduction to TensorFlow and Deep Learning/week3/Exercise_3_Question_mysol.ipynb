{
  "nbformat": 4,
  "nbformat_minor": 0,
  "metadata": {
    "colab": {
      "name": "Exercise 3 - Question.ipynb",
      "version": "0.3.2",
      "provenance": [],
      "collapsed_sections": []
    },
    "kernelspec": {
      "name": "python3",
      "display_name": "Python 3"
    },
    "accelerator": "TPU"
  },
  "cells": [
    {
      "metadata": {
        "id": "iQjHqsmTAVLU",
        "colab_type": "text"
      },
      "cell_type": "markdown",
      "source": [
        "## Exercise 3\n",
        "In the videos you looked at how you would improve Fashion MNIST using Convolutions. For your exercise see if you can improve MNIST to 99.8% accuracy or more using only a single convolutional layer and a single MaxPooling 2D. You should stop training once the accuracy goes above this amount. It should happen in less than 20 epochs, so it's ok to hard code the number of epochs for training, but your training must end once it hits the above metric. If it doesn't, then you'll need to redesign your layers.\n",
        "\n",
        "I've started the code for you -- you need to finish it!\n",
        "\n",
        "When 99.8% accuracy has been hit, you should print out the string \"Reached 99.8% accuracy so cancelling training!\"\n"
      ]
    },
    {
      "metadata": {
        "id": "sfQRyaJWAIdg",
        "colab_type": "code",
        "colab": {
          "base_uri": "https://localhost:8080/",
          "height": 369
        },
        "outputId": "275e2fa1-8a67-4c3c-859b-1c46c5bfc6ad"
      },
      "cell_type": "code",
      "source": [
        "import tensorflow as tf\n",
        "\n",
        "# YOUR CODE STARTS HERE\n",
        "class myCallback(tf.keras.callbacks.Callback):\n",
        "  def on_epoch_end(self, epoch, logs={}):\n",
        "    if(logs.get('acc')>0.998):\n",
        "      print(\"\\nReached 99% accuracy so cancelling training!\")\n",
        "      self.model.stop_training = True\n",
        "# YOUR CODE ENDS HERE\n",
        "\n",
        "mnist = tf.keras.datasets.mnist\n",
        "(training_images, training_labels), (test_images, test_labels) = mnist.load_data()\n",
        "\n",
        "# YOUR CODE STARTS HERE\n",
        "training_images=training_images.reshape(60000, 28, 28, 1)\n",
        "training_images=training_images / 255.0\n",
        "test_images = test_images.reshape(10000, 28, 28, 1)\n",
        "test_images=test_images/255.0\n",
        "# YOUR CODE ENDS HERE\n",
        "callbacks = myCallback()\n",
        "model = tf.keras.models.Sequential([\n",
        "  tf.keras.layers.Conv2D(32, (3,3), activation='relu', input_shape=(28, 28, 1)),\n",
        "  tf.keras.layers.MaxPooling2D(2, 2),\n",
        "  tf.keras.layers.Flatten(),\n",
        "  tf.keras.layers.Dense(128, activation='relu'),\n",
        "  tf.keras.layers.Dense(10, activation='softmax')\n",
        "])\n",
        "\n",
        "# YOUR CODE STARTS HERE\n",
        "model.compile(optimizer='adam', loss='sparse_categorical_crossentropy', metrics=['accuracy'])\n",
        "model.fit(training_images, training_labels, epochs=10,callbacks=[callbacks])\n",
        "test_loss, test_acc = model.evaluate(test_images, test_labels)\n",
        "print(test_acc)\n",
        "# YOUR CODE ENDS HERE\n",
        "\n"
      ],
      "execution_count": 4,
      "outputs": [
        {
          "output_type": "stream",
          "text": [
            "Epoch 1/10\n",
            "60000/60000 [==============================] - 53s 878us/sample - loss: 0.1506 - acc: 0.9549\n",
            "Epoch 2/10\n",
            "60000/60000 [==============================] - 52s 873us/sample - loss: 0.0504 - acc: 0.9846\n",
            "Epoch 3/10\n",
            "60000/60000 [==============================] - 52s 870us/sample - loss: 0.0318 - acc: 0.9899\n",
            "Epoch 4/10\n",
            "60000/60000 [==============================] - 52s 871us/sample - loss: 0.0207 - acc: 0.9937\n",
            "Epoch 5/10\n",
            "60000/60000 [==============================] - 52s 866us/sample - loss: 0.0145 - acc: 0.9955\n",
            "Epoch 6/10\n",
            "60000/60000 [==============================] - 52s 866us/sample - loss: 0.0108 - acc: 0.9967\n",
            "Epoch 7/10\n",
            "60000/60000 [==============================] - 52s 867us/sample - loss: 0.0076 - acc: 0.9977\n",
            "Epoch 8/10\n",
            "59936/60000 [============================>.] - ETA: 0s - loss: 0.0063 - acc: 0.9981\n",
            "Reached 99% accuracy so cancelling training!\n",
            "60000/60000 [==============================] - 52s 872us/sample - loss: 0.0064 - acc: 0.9981\n",
            "10000/10000 [==============================] - 3s 263us/sample - loss: 0.0542 - acc: 0.9850\n",
            "0.985\n"
          ],
          "name": "stdout"
        }
      ]
    }
  ]
}